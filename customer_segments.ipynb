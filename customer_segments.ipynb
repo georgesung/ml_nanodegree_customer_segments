{
 "cells": [
  {
   "cell_type": "markdown",
   "metadata": {},
   "source": [
    "# Creating Customer Segments"
   ]
  },
  {
   "cell_type": "markdown",
   "metadata": {},
   "source": [
    "In this project you, will analyze a dataset containing annual spending amounts for internal structure, to understand the variation in the different types of customers that a wholesale distributor interacts with.\n",
    "\n",
    "Instructions:\n",
    "\n",
    "- Run each code block below by pressing **Shift+Enter**, making sure to implement any steps marked with a TODO.\n",
    "- Answer each question in the space provided by editing the blocks labeled \"Answer:\".\n",
    "- When you are done, submit the completed notebook (.ipynb) with all code blocks executed, as well as a .pdf version (File > Download as)."
   ]
  },
  {
   "cell_type": "code",
   "execution_count": 1,
   "metadata": {
    "collapsed": false
   },
   "outputs": [
    {
     "name": "stdout",
     "output_type": "stream",
     "text": [
      "Dataset has 440 rows, 6 columns\n",
      "   Fresh  Milk  Grocery  Frozen  Detergents_Paper  Delicatessen\n",
      "0  12669  9656     7561     214              2674          1338\n",
      "1   7057  9810     9568    1762              3293          1776\n",
      "2   6353  8808     7684    2405              3516          7844\n",
      "3  13265  1196     4221    6404               507          1788\n",
      "4  22615  5410     7198    3915              1777          5185\n"
     ]
    }
   ],
   "source": [
    "# Import libraries: NumPy, pandas, matplotlib\n",
    "import numpy as np\n",
    "import pandas as pd\n",
    "import matplotlib.pyplot as plt\n",
    "\n",
    "# Tell iPython to include plots inline in the notebook\n",
    "%matplotlib inline\n",
    "\n",
    "# Read dataset\n",
    "data = pd.read_csv(\"wholesale-customers.csv\")\n",
    "print \"Dataset has {} rows, {} columns\".format(*data.shape)\n",
    "print data.head()  # print the first 5 rows"
   ]
  },
  {
   "cell_type": "markdown",
   "metadata": {},
   "source": [
    "## Feature Transformation"
   ]
  },
  {
   "cell_type": "markdown",
   "metadata": {},
   "source": [
    "**1)** In this section you will be using PCA and ICA to start to understand the structure of the data. Before doing any computations, what do you think will show up in your computations? List one or two ideas for what might show up as the first PCA dimensions, or what type of vectors will show up as ICA dimensions."
   ]
  },
  {
   "cell_type": "markdown",
   "metadata": {},
   "source": [
    "Answer:\n",
    "\n",
    "For PCA dimensions, my guess is that a combined component of \"Fresh\", \"Milk\", and \"Grocery\" will be the first principal component. In my opinion, \"Fresh\", \"Milk\", and \"Grocery\" all fall under the category of \"groceries\".\n",
    "\n",
    "For ICA dimensions, my guess is that \"Detergents_Paper\" will be a basis vector of ICA. Out of all product categories (features) in our data, \"Detergents_Paper\" seems like the most different/independent category compared to the rest."
   ]
  },
  {
   "cell_type": "markdown",
   "metadata": {},
   "source": [
    "### PCA"
   ]
  },
  {
   "cell_type": "code",
   "execution_count": 2,
   "metadata": {
    "collapsed": false
   },
   "outputs": [
    {
     "name": "stdout",
     "output_type": "stream",
     "text": [
      "[[-0.97653685 -0.12118407 -0.06154039 -0.15236462  0.00705417 -0.06810471]\n",
      " [-0.11061386  0.51580216  0.76460638 -0.01872345  0.36535076  0.05707921]\n",
      " [-0.17855726  0.50988675 -0.27578088  0.71420037 -0.20440987  0.28321747]\n",
      " [-0.04187648 -0.64564047  0.37546049  0.64629232  0.14938013 -0.02039579]\n",
      " [ 0.015986    0.20323566 -0.1602915   0.22018612  0.20793016 -0.91707659]\n",
      " [-0.01576316  0.03349187  0.41093894 -0.01328898 -0.87128428 -0.26541687]]\n",
      "[ 0.45961362  0.40517227  0.07003008  0.04402344  0.01502212  0.00613848]\n"
     ]
    }
   ],
   "source": [
    "# TODO: Apply PCA with the same number of dimensions as variables in the dataset\n",
    "from sklearn.decomposition import PCA\n",
    "\n",
    "# First normalize all features to zero mean\n",
    "# Note we are *not* normalizing to unit variance,\n",
    "# because all features are measured with the same units\n",
    "#data_norm = data.apply(lambda x: (x - np.mean(x)) / np.std(x))\n",
    "data_norm = data.apply(lambda x: (x - np.mean(x)))\n",
    "\n",
    "# Run PCA on feature-normalized dataset\n",
    "pca = PCA(n_components=len(data_norm.columns))\n",
    "pca.fit(data_norm)\n",
    "\n",
    "# gsung: Normalizing makes no difference here... maybe just delete the above?\n",
    "pca = PCA(n_components=len(data.columns))\n",
    "pca.fit(data)\n",
    "\n",
    "# Print the components and the amount of variance in the data contained in each dimension\n",
    "print pca.components_\n",
    "print pca.explained_variance_ratio_"
   ]
  },
  {
   "cell_type": "markdown",
   "metadata": {},
   "source": [
    "**2)** How quickly does the variance drop off by dimension? If you were to use PCA on this dataset, how many dimensions would you choose for your analysis? Why?"
   ]
  },
  {
   "cell_type": "markdown",
   "metadata": {
    "collapsed": true
   },
   "source": [
    "Answer:\n",
    "\n",
    "Looking at PCA's explained variance ratio, we see that the variance drops off significantly after the second principle component. In particular, the first to second principle components explain 46% and 41% of the total variance, respectively. However, the third principle component only explains 7% of the total variance.\n",
    "\n",
    "Based on the above reasoning, if I were to use PCA on this dataset, I would choose 2 dimensions for my analysis."
   ]
  },
  {
   "cell_type": "markdown",
   "metadata": {},
   "source": [
    "**3)** What do the dimensions seem to represent? How can you use this information?"
   ]
  },
  {
   "cell_type": "markdown",
   "metadata": {
    "collapsed": true
   },
   "source": [
    "Answer:\n",
    "\n",
    "The first dimension (first principle component) is basically the \"Fresh\" feature, but negative. Looking at the first principle component, we see the first value is -0.9765, whereas all other values are much closer to 0. The fact that this value is negative is acceptable, as this means we found the appropriate eigenvector, just pointing in the opposite direction.\n",
    "\n",
    "The second dimension (second principle component) seems to represent a weighted combination of \"Grocery\", \"Milk\", and \"Detergents_Paper\", since the values corresponding to the aforementioned features in the second principle component seem to be the largest.\n",
    "\n",
    "From the analysis above, it seems we can determine our customer segments using just two features/dimensions. The first dimension is dominated by the \"Fresh\" feature, and the second dimension consists mainly of the \"Grocery\", \"Milk\", and \"Detergents_Paper\" features. Note that the \"Frozen\" and \"Delicatessen\" features do not play a large role in our reduced feature set, because the volume of sales in those categories are too low to create meaningful customer segments. If there is a particular category of customers that focus on purchasing \"Frozen\" or \"Delicatessen\" products, their volume is too low for us to allocate resouces to target them, relative to other customer categories."
   ]
  },
  {
   "cell_type": "markdown",
   "metadata": {},
   "source": [
    "### ICA"
   ]
  },
  {
   "cell_type": "code",
   "execution_count": 3,
   "metadata": {
    "collapsed": false
   },
   "outputs": [
    {
     "name": "stdout",
     "output_type": "stream",
     "text": [
      "Random Polarity ICA Run 0\n",
      "[[ -3.88303003e-07  -2.09328321e-07  -6.52052111e-07  -5.11470261e-07\n",
      "    5.92467975e-07   1.80993643e-05]\n",
      " [ -1.54560428e-07  -9.75400666e-06   6.32551944e-06   2.98961322e-07\n",
      "   -4.46347994e-06   5.83664379e-06]\n",
      " [ -1.02939379e-07   6.13029434e-08   1.20032839e-05  -5.74119869e-07\n",
      "   -1.67146573e-05  -4.49751879e-06]\n",
      " [  2.95243653e-07  -3.25842937e-06  -6.03467837e-06   1.44205701e-06\n",
      "    2.25405905e-05   4.06301292e-06]\n",
      " [  8.67969041e-07   1.47640252e-07  -8.60132288e-07  -1.11450917e-05\n",
      "    6.53466474e-07   5.99005748e-06]\n",
      " [  3.97967250e-06  -8.88054739e-07  -3.99347522e-07  -6.60764111e-07\n",
      "    1.97905499e-06  -1.11543252e-06]]\n",
      "\n",
      "\n",
      "Random Polarity ICA Run 1\n",
      "[[ -3.97572811e-06   8.57400730e-07   6.15115834e-07   6.78224846e-07\n",
      "   -2.04141091e-06   1.04836287e-06]\n",
      " [ -8.65295905e-07  -1.40142714e-07   7.74447324e-07   1.11460595e-05\n",
      "   -5.56793694e-07  -5.95256524e-06]\n",
      " [ -3.01523302e-07   2.29115041e-06   1.21011892e-05  -1.46034975e-06\n",
      "   -2.82141524e-05  -5.73497084e-06]\n",
      " [  1.53287722e-07   9.84706731e-06  -5.80481898e-06  -3.64773096e-07\n",
      "    3.30022191e-06  -6.05997627e-06]\n",
      " [  2.11574686e-07  -1.89709144e-06   6.35277427e-06   4.20622627e-07\n",
      "   -6.37829931e-07  -1.41905060e-06]\n",
      " [  3.86353058e-07   2.19513829e-07   6.01880513e-07   5.22077217e-07\n",
      "   -5.11146227e-07  -1.80929578e-05]]\n",
      "\n",
      "\n",
      "Random Polarity ICA Run 2\n",
      "[[ -3.97566559e-06   8.57076046e-07   6.11794863e-07   6.78535000e-07\n",
      "   -2.03451130e-06   1.04989293e-06]\n",
      " [ -2.11963865e-07   1.90178566e-06  -6.32815750e-06  -4.23779669e-07\n",
      "    5.80455647e-07   1.40650486e-06]\n",
      " [ -1.53253522e-07  -9.84769120e-06   5.80135353e-06   3.65314324e-07\n",
      "   -3.29220439e-06   6.06099060e-06]\n",
      " [  3.02079578e-07  -2.28467533e-06  -1.21158896e-05   1.45948297e-06\n",
      "    2.82168110e-05   5.73558362e-06]\n",
      " [  3.86357817e-07   2.19776247e-07   6.02070187e-07   5.21748617e-07\n",
      "   -5.11289243e-07  -1.80930840e-05]\n",
      " [  8.65297824e-07   1.39964577e-07  -7.74595255e-07  -1.11460323e-05\n",
      "    5.57423952e-07   5.95326643e-06]]\n",
      "\n",
      "\n",
      "Fixed Polarity ICA Run 0\n",
      "[[  1.53830777e-07   9.84435755e-06  -5.81274499e-06  -3.63341195e-07\n",
      "    3.32409687e-06  -6.05605880e-06]\n",
      " [  2.10054071e-07  -1.88190466e-06   6.45440481e-06   4.07611883e-07\n",
      "   -8.71299655e-07  -1.46715627e-06]\n",
      " [  2.98894019e-07  -2.31420072e-06  -1.20428476e-05   1.46378609e-06\n",
      "    2.82029536e-05   5.73069861e-06]\n",
      " [  3.86481013e-07   2.19542771e-07   6.00228200e-07   5.22080475e-07\n",
      "   -5.09741344e-07  -1.80923764e-05]\n",
      " [  8.65153420e-07   1.40596080e-07  -7.73975153e-07  -1.11462126e-05\n",
      "    5.54300505e-07   5.95212179e-06]\n",
      " [  3.97600486e-06  -8.59994836e-07  -6.29290524e-07  -6.77010843e-07\n",
      "    2.07192660e-06  -1.04066586e-06]]\n",
      "\n",
      "\n",
      "Fixed Polarity ICA Run 1\n",
      "[[  1.62847726e-07   9.79297740e-06  -5.97280854e-06  -3.35386258e-07\n",
      "    3.78567876e-06  -5.98017243e-06]\n",
      " [  1.95226505e-07  -1.72071273e-06   7.49375567e-06   2.66596325e-07\n",
      "   -3.31088438e-06  -1.96357058e-06]\n",
      " [  2.62013759e-07  -2.62294051e-06  -1.13325332e-05   1.49935276e-06\n",
      "    2.79332887e-05   5.70102888e-06]\n",
      " [  3.88239229e-07   2.17803125e-07   5.87644448e-07   5.21439804e-07\n",
      "   -5.05578812e-07  -1.80861814e-05]\n",
      " [  8.63197709e-07   1.46528881e-07  -7.75001927e-07  -1.11475293e-05\n",
      "    5.35919513e-07   5.94917507e-06]\n",
      " [  3.97925533e-06  -8.96682006e-07  -7.93575963e-07  -6.62477284e-07\n",
      "    2.44347744e-06  -9.44290113e-07]]\n",
      "\n",
      "\n",
      "Fixed Polarity ICA Run 2\n",
      "[[  1.53710715e-07   9.84496384e-06  -5.81103280e-06  -3.63656488e-07\n",
      "    3.31884712e-06  -6.05691835e-06]\n",
      " [  2.10341549e-07  -1.88457551e-06   6.43544887e-06   4.10040897e-07\n",
      "   -8.27845453e-07  -1.45832519e-06]\n",
      " [  2.99385154e-07  -2.30963559e-06  -1.20539301e-05   1.46313947e-06\n",
      "    2.82052822e-05   5.73137522e-06]\n",
      " [  3.86458104e-07   2.19538756e-07   6.00517732e-07   5.22081520e-07\n",
      "   -5.09963625e-07  -1.80924803e-05]\n",
      " [  8.65179896e-07   1.40510166e-07  -7.74047328e-07  -1.11461843e-05\n",
      "    5.54747978e-07   5.95219947e-06]\n",
      " [  3.97595382e-06  -8.59493150e-07  -6.26685885e-07  -6.77237446e-07\n",
      "    2.06627911e-06  -1.04209950e-06]]\n",
      "\n",
      "\n"
     ]
    }
   ],
   "source": [
    "# TODO: Fit an ICA model to the data\n",
    "# Note: Adjust the data to have center at the origin first!\n",
    "from sklearn.decomposition import FastICA\n",
    "\n",
    "# Adjust the data to have center at the origin first\n",
    "data_norm = data.apply(lambda x: (x - np.mean(x)))\n",
    "\n",
    "# Since ICA gives different results each time, I will run ICA 3 times\n",
    "# and visually inspect all components_ matrices,\n",
    "# to see if results are generally similar or not\n",
    "for i in range(3):\n",
    "    ica = FastICA()\n",
    "    ica.fit(data_norm)\n",
    "    comp = ica.components_\n",
    "    \n",
    "    print 'Random Polarity ICA Run ' + str(i)\n",
    "    print comp[np.argsort(comp[:,0])]\n",
    "    print '\\n'\n",
    "\n",
    "# From the results in the above loop, we will see the ICA\n",
    "# components' polarity is random. Let's fix the polarity\n",
    "# to try to spot some patterns\n",
    "for i in range(3):\n",
    "    ica = FastICA()\n",
    "    ica.fit(data_norm)\n",
    "    comp = ica.components_\n",
    "    \n",
    "    # ICA gives arbitrary polarity for components,\n",
    "    # so standardize the polarity such that\n",
    "    # the first column's value is always positive\n",
    "    for row in comp:\n",
    "        if row[0] < 0:\n",
    "            row *= -1\n",
    "    \n",
    "    print 'Fixed Polarity ICA Run ' + str(i)\n",
    "    print comp[np.argsort(comp[:,0])]\n",
    "    print '\\n'"
   ]
  },
  {
   "cell_type": "markdown",
   "metadata": {},
   "source": [
    "**4)** For each vector in the ICA decomposition, write a sentence or two explaining what sort of object or property it corresponds to. What could these components be used for?"
   ]
  },
  {
   "cell_type": "markdown",
   "metadata": {
    "collapsed": true
   },
   "source": [
    "Answer:\n",
    "\n",
    "First, looking at results from \"Fixed Polarity ICA Run [0-2]\", we see that the last 3 vectors/rows of the unmixing matrices are consistent (rows 3-5, inclusive). Note all rows are zero-mean.\n",
    "\n",
    "However, we cannot make any conclusions about the qualitative type of customer based on these 3 vectors, because their polarity is indeterminant. Looking at \"Random Polarity ICA Run [0-2]\", we can find the last 3 vectors from \"Fixed Polarity ICA Run [0-2]\", but with random polarity.\n",
    "\n",
    "Unfortunately, I cannot draw any conclusions to the problem at hand, based on ICA. ICA is more applicable to problems like blind source separation (e.g. http://scikit-learn.org/stable/auto_examples/decomposition/plot_ica_blind_source_separation.html). But for our particular case of customer segment discovery, it looks like ICA is not a good method to use."
   ]
  },
  {
   "cell_type": "markdown",
   "metadata": {},
   "source": [
    "## Clustering\n",
    "\n",
    "In this section you will choose either K Means clustering or Gaussian Mixed Models clustering, which implements expectation-maximization. Then you will sample elements from the clusters to understand their significance."
   ]
  },
  {
   "cell_type": "markdown",
   "metadata": {},
   "source": [
    "### Choose a Cluster Type\n",
    "\n",
    "**5)** What are the advantages of using K Means clustering or Gaussian Mixture Models?"
   ]
  },
  {
   "cell_type": "markdown",
   "metadata": {},
   "source": [
    "Answer:\n",
    "\n",
    "The advantages of K-Means clustering is that it is a fast way to perform clustering (in terms of computational runtime), compared to Gaussian Mixture Models. However, K-Means clustering only provides information about which cluster a data point belongs to, but no information about the likelihood/probability of that data point belonging to said cluster.\n",
    "\n",
    "This is in contrast to clustering using Gaussion Mixture Models. Although it runs slower than K-Means, Gaussian Mixture Models can not only provide information about which cluster a data point belongs to, it can also provide the probability that a particular data point belongs to any particular cluster. Also, Gaussian Mixture Models can calculate more complex decision boundaries compared to K-Means."
   ]
  },
  {
   "cell_type": "markdown",
   "metadata": {},
   "source": [
    "**6)** Below is some starter code to help you visualize some cluster data. The visualization is based on [this demo](http://scikit-learn.org/stable/auto_examples/cluster/plot_kmeans_digits.html) from the sklearn documentation."
   ]
  },
  {
   "cell_type": "code",
   "execution_count": 4,
   "metadata": {
    "collapsed": true
   },
   "outputs": [],
   "source": [
    "# Import clustering modules\n",
    "from sklearn.cluster import KMeans\n",
    "from sklearn.mixture import GMM"
   ]
  },
  {
   "cell_type": "code",
   "execution_count": 5,
   "metadata": {
    "collapsed": false
   },
   "outputs": [
    {
     "name": "stdout",
     "output_type": "stream",
     "text": [
      "[[  -650.02212207   1585.51909007]\n",
      " [  4426.80497937   4042.45150884]\n",
      " [  4841.9987068    2578.762176  ]\n",
      " [  -990.34643689  -6279.80599663]\n",
      " [-10657.99873116  -2159.72581518]\n",
      " [  2765.96159271   -959.87072713]\n",
      " [   715.55089221  -2013.00226567]\n",
      " [  4474.58366697   1429.49697204]\n",
      " [  6712.09539718  -2205.90915598]\n",
      " [  4823.63435407  13480.55920489]]\n"
     ]
    }
   ],
   "source": [
    "# TODO: First we reduce the data to two dimensions using PCA to capture variation\n",
    "pca = PCA(n_components=2)  #, whiten=True)\n",
    "reduced_data = pca.fit_transform(data)\n",
    "\n",
    "print reduced_data[:10]  # print upto 10 elements"
   ]
  },
  {
   "cell_type": "markdown",
   "metadata": {},
   "source": [
    "#### Using K-Means Clustering"
   ]
  },
  {
   "cell_type": "code",
   "execution_count": 6,
   "metadata": {
    "collapsed": false
   },
   "outputs": [
    {
     "name": "stdout",
     "output_type": "stream",
     "text": [
      "KMeans(copy_x=True, init='k-means++', max_iter=300, n_clusters=3, n_init=10,\n",
      "    n_jobs=1, precompute_distances='auto', random_state=None, tol=0.0001,\n",
      "    verbose=0)\n"
     ]
    }
   ],
   "source": [
    "# TODO: Implement your clustering algorithm here, and fit it to the reduced data for visualization\n",
    "# The visualizer below assumes your clustering object is named 'clusters'\n",
    "num_clusters = 3\n",
    "clusters = KMeans(n_clusters=num_clusters).fit(reduced_data)\n",
    "\n",
    "print clusters"
   ]
  },
  {
   "cell_type": "code",
   "execution_count": 7,
   "metadata": {
    "collapsed": false
   },
   "outputs": [],
   "source": [
    "# Plot the decision boundary by building a mesh grid to populate a graph.\n",
    "x_min, x_max = reduced_data[:, 0].min() - 1, reduced_data[:, 0].max() + 1\n",
    "y_min, y_max = reduced_data[:, 1].min() - 1, reduced_data[:, 1].max() + 1\n",
    "hx = (x_max-x_min)/1000.\n",
    "hy = (y_max-y_min)/1000.\n",
    "xx, yy = np.meshgrid(np.arange(x_min, x_max, hx), np.arange(y_min, y_max, hy))\n",
    "\n",
    "# Obtain labels for each point in mesh. Use last trained model.\n",
    "Z = clusters.predict(np.c_[xx.ravel(), yy.ravel()])"
   ]
  },
  {
   "cell_type": "code",
   "execution_count": 8,
   "metadata": {
    "collapsed": false
   },
   "outputs": [
    {
     "name": "stdout",
     "output_type": "stream",
     "text": [
      "[[-23978.86566553  -4445.56611772]\n",
      " [  4165.1217824   -3105.15811456]\n",
      " [  1341.31124554  25261.39189714]]\n"
     ]
    }
   ],
   "source": [
    "# TODO: Find the centroids for KMeans or the cluster means for GMM \n",
    "centroids = clusters.cluster_centers_\n",
    "print centroids"
   ]
  },
  {
   "cell_type": "code",
   "execution_count": 9,
   "metadata": {
    "collapsed": false,
    "scrolled": true
   },
   "outputs": [
    {
     "name": "stderr",
     "output_type": "stream",
     "text": [
      "C:\\Anaconda\\envs\\ml_nd\\lib\\site-packages\\matplotlib\\collections.py:590: FutureWarning: elementwise comparison failed; returning scalar instead, but in the future will perform elementwise comparison\n",
      "  if self._edgecolors == str('face'):\n"
     ]
    },
    {
     "data": {
      "image/png": "[encoded data removed]",
      "text/plain": [
       "<matplotlib.figure.Figure at 0xc634eb8>"
      ]
     },
     "metadata": {},
     "output_type": "display_data"
    }
   ],
   "source": [
    "# Put the result into a color plot\n",
    "Z = Z.reshape(xx.shape)\n",
    "plt.figure(1)\n",
    "plt.clf()\n",
    "plt.imshow(Z, interpolation='nearest',\n",
    "           extent=(xx.min(), xx.max(), yy.min(), yy.max()),\n",
    "           cmap=plt.cm.Paired,\n",
    "           aspect='auto', origin='lower')\n",
    "\n",
    "plt.plot(reduced_data[:, 0], reduced_data[:, 1], 'k.', markersize=2)\n",
    "plt.scatter(centroids[:, 0], centroids[:, 1],\n",
    "            marker='x', s=169, linewidths=3,\n",
    "            color='w', zorder=10)\n",
    "plt.title('Clustering on the wholesale grocery dataset (PCA-reduced data)\\n'\n",
    "          'Centroids are marked with white cross')\n",
    "plt.xlim(x_min, x_max)\n",
    "plt.ylim(y_min, y_max)\n",
    "plt.xticks(())\n",
    "plt.yticks(())\n",
    "plt.show()"
   ]
  },
  {
   "cell_type": "markdown",
   "metadata": {},
   "source": [
    "#### Using Gaussian Mixture Model Clustering"
   ]
  },
  {
   "cell_type": "code",
   "execution_count": 10,
   "metadata": {
    "collapsed": false
   },
   "outputs": [
    {
     "name": "stdout",
     "output_type": "stream",
     "text": [
      "GMM(covariance_type='diag', init_params='wmc', min_covar=0.001,\n",
      "  n_components=3, n_init=1, n_iter=100, params='wmc', random_state=None,\n",
      "  thresh=None, tol=0.001)\n"
     ]
    }
   ],
   "source": [
    "# TODO: Implement your clustering algorithm here, and fit it to the reduced data for visualization\n",
    "# The visualizer below assumes your clustering object is named 'clusters'\n",
    "clusters = GMM(n_components=num_clusters).fit(reduced_data)\n",
    "\n",
    "print clusters"
   ]
  },
  {
   "cell_type": "code",
   "execution_count": 11,
   "metadata": {
    "collapsed": false
   },
   "outputs": [],
   "source": [
    "# Plot the decision boundary by building a mesh grid to populate a graph.\n",
    "x_min, x_max = reduced_data[:, 0].min() - 1, reduced_data[:, 0].max() + 1\n",
    "y_min, y_max = reduced_data[:, 1].min() - 1, reduced_data[:, 1].max() + 1\n",
    "hx = (x_max-x_min)/1000.\n",
    "hy = (y_max-y_min)/1000.\n",
    "xx, yy = np.meshgrid(np.arange(x_min, x_max, hx), np.arange(y_min, y_max, hy))\n",
    "\n",
    "# Obtain labels for each point in mesh. Use last trained model.\n",
    "Z = clusters.predict(np.c_[xx.ravel(), yy.ravel()])"
   ]
  },
  {
   "cell_type": "code",
   "execution_count": 12,
   "metadata": {
    "collapsed": false
   },
   "outputs": [
    {
     "name": "stdout",
     "output_type": "stream",
     "text": [
      "[[  7008.79023695   4324.06822955]\n",
      " [   358.36708419  -6497.47492087]\n",
      " [-17849.1311478    9968.58292565]]\n"
     ]
    }
   ],
   "source": [
    "# TODO: Find the centroids for KMeans or the cluster means for GMM \n",
    "centroids = clusters.means_\n",
    "print centroids"
   ]
  },
  {
   "cell_type": "code",
   "execution_count": 13,
   "metadata": {
    "collapsed": false,
    "scrolled": true
   },
   "outputs": [
    {
     "data": {
      "image/png": "[encoded data removed]",
      "text/plain": [
       "<matplotlib.figure.Figure at 0x1f37d710>"
      ]
     },
     "metadata": {},
     "output_type": "display_data"
    }
   ],
   "source": [
    "# Put the result into a color plot\n",
    "Z = Z.reshape(xx.shape)\n",
    "plt.figure(1)\n",
    "plt.clf()\n",
    "plt.imshow(Z, interpolation='nearest',\n",
    "           extent=(xx.min(), xx.max(), yy.min(), yy.max()),\n",
    "           cmap=plt.cm.Paired,\n",
    "           aspect='auto', origin='lower')\n",
    "\n",
    "plt.plot(reduced_data[:, 0], reduced_data[:, 1], 'k.', markersize=2)\n",
    "plt.scatter(centroids[:, 0], centroids[:, 1],\n",
    "            marker='x', s=169, linewidths=3,\n",
    "            color='w', zorder=10)\n",
    "plt.title('Clustering on the wholesale grocery dataset (PCA-reduced data)\\n'\n",
    "          'Centroids are marked with white cross')\n",
    "plt.xlim(x_min, x_max)\n",
    "plt.ylim(y_min, y_max)\n",
    "plt.xticks(())\n",
    "plt.yticks(())\n",
    "plt.show()"
   ]
  },
  {
   "cell_type": "markdown",
   "metadata": {},
   "source": [
    "##### Zoom in on the plot above"
   ]
  },
  {
   "cell_type": "code",
   "execution_count": 14,
   "metadata": {
    "collapsed": false
   },
   "outputs": [
    {
     "data": {
      "image/png": "[encoded data removed]",
      "text/plain": [
       "<matplotlib.figure.Figure at 0x1f37d668>"
      ]
     },
     "metadata": {},
     "output_type": "display_data"
    }
   ],
   "source": [
    "# Same plot as above, but zoomed-in\n",
    "Z = Z.reshape(xx.shape)\n",
    "plt.figure(1)\n",
    "plt.clf()\n",
    "plt.imshow(Z, interpolation='nearest',\n",
    "           extent=(xx.min(), xx.max(), yy.min(), yy.max()),\n",
    "           cmap=plt.cm.Paired,\n",
    "           aspect='auto', origin='lower')\n",
    "\n",
    "plt.plot(reduced_data[:, 0], reduced_data[:, 1], 'k.', markersize=2)\n",
    "plt.scatter(centroids[:, 0], centroids[:, 1],\n",
    "            marker='x', s=169, linewidths=3,\n",
    "            color='w', zorder=10)\n",
    "plt.title('Clustering on the wholesale grocery dataset (PCA-reduced data)\\n'\n",
    "          'Centroids are marked with white cross')\n",
    "plt.xlim(x_min + 0.6*(x_max-x_min), x_max)\n",
    "plt.ylim(y_min, y_max - 0.5*(y_max-y_min))\n",
    "plt.xticks(())\n",
    "plt.yticks(())\n",
    "plt.show()"
   ]
  },
  {
   "cell_type": "markdown",
   "metadata": {},
   "source": [
    "**7)** What are the central objects in each cluster? Describe them as customers."
   ]
  },
  {
   "cell_type": "markdown",
   "metadata": {
    "collapsed": true
   },
   "source": [
    "Answer:\n",
    "\n",
    "First, note that the horizontal axis is our first component from PCA, which is the component dominated by the \"Fresh\" category. Note the horizontal axis is negative, so datapoints on the left of the plot represent customers who placed relatively large orders of \"Fresh\" items. The vertical axis is our second component from PCA, which is a combination of \"Grocery\", \"Milk\", and \"Detergents_Paper\". The datapoints on the top of the plot represent customers who placed large orders of groceries/milk/detergents/paper.\n",
    "\n",
    "Also note that \"Frozen\" and \"Delicatessen\" categories are not represented in our 2 chosen principal components, since the quantities of frozen and delicatessen products are too small compared to the other categories. This renders frozen and delicatessen categories less relevant.\n",
    "\n",
    "Qualitatively, the orange cluster represents customers who buy very little groceries/milk/detergents/paper, and little to moderate quantities of fresh produce. The customers represented by the orange cluster appear to be restaurants.\n",
    "\n",
    "The blue cluster represents customers who buy very little fresh produce, but moderate to large quantities of groceries/milk/detergents/paper. The customers represented by the blue cluster appear to be grocery stores and supermarkets.\n",
    "\n",
    "The brown cluster represents customers not included in the orange and blue clusters, and it's hard to pinpoint an exact category of customers for the brown cluster."
   ]
  },
  {
   "cell_type": "markdown",
   "metadata": {},
   "source": [
    "### Conclusions\n",
    "\n",
    "** 8)** Which of these techniques did you feel gave you the most insight into the data?"
   ]
  },
  {
   "cell_type": "markdown",
   "metadata": {
    "collapsed": true
   },
   "source": [
    "Answer:\n",
    "\n",
    "For deciding between PCA and ICA, I felt PCA worked better for the problem at hand. For more details, see answers to questions 3 and 4.\n",
    "\n",
    "Deciding between K-Means and Gaussian Mixture Model (GMM) clustering, I felt GMM gave more insight into the data. Looking at the plots for both K-Means and GMM clustering methods (question 6), the plot using GMM clustering made more intuitive sense, in terms of valid clustering decision boundaries."
   ]
  },
  {
   "cell_type": "markdown",
   "metadata": {
    "collapsed": true
   },
   "source": [
    "**9)** How would you use that technique to help the company design new experiments?"
   ]
  },
  {
   "cell_type": "markdown",
   "metadata": {},
   "source": [
    "Answer:\n",
    "\n",
    "As seen from our analysis using PCA and GMM clustering, we can find two general customer segments: restaurants and grocery stores / supermarkets. However, when running PCA, we have effectively removed all of the smaller customers from consideration, because their order quantities are too small to account for significant variance.\n",
    "\n",
    "One new experiment the company may be interested to run is to analyze the smaller customers, to determine if there are any significant customer segments in this subset of customers. We can reduce the dataset by only including the customers whose total order quantity is less than X monetary units, then perform PCA and GMM clustering on the reduced dataset."
   ]
  },
  {
   "cell_type": "markdown",
   "metadata": {},
   "source": [
    "**10)** How would you use that data to help you predict future customer needs?"
   ]
  },
  {
   "cell_type": "markdown",
   "metadata": {},
   "source": [
    "Answer:\n",
    "\n",
    "Based on the analysis of our data, we have concluded that the two main customer segments of concern are the restaurants and grocery stores / supermarkets, who mainly purchase fresh produce and groceries/milk/detergents/paper, respectively.\n",
    "\n",
    "From this analysis, we can infer that any price and/or quality changes in our fresh produce will greatly affect our restaurant customers. Also, andy price and/or quality changes in our groceries/milk/detergents/paper products will greatly affect our grocery store / supermarket customers.\n",
    "\n",
    "Also, for the restaurant customers, delivering fresh produce in the evenings may be bad for them, since the restaurants would want their fresh produce delivered in the morning so they can serve fresh food to their customers. Since restaurant customers are an important customer segment, I would advise re-instating the morning delivery option."
   ]
  }
 ],
 "metadata": {
  "kernelspec": {
   "display_name": "Python 2",
   "language": "python",
   "name": "python2"
  },
  "language_info": {
   "codemirror_mode": {
    "name": "ipython",
    "version": 2
   },
   "file_extension": ".py",
   "mimetype": "text/x-python",
   "name": "python",
   "nbconvert_exporter": "python",
   "pygments_lexer": "ipython2",
   "version": "2.7.10"
  }
 },
 "nbformat": 4,
 "nbformat_minor": 0
}
